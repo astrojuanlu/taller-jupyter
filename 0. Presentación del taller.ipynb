{
 "cells": [
  {
   "cell_type": "markdown",
   "metadata": {
    "slideshow": {
     "slide_type": "slide"
    }
   },
   "source": [
    "![SciPy.lat](img/scipy-lat-small.png)\n",
    "\n",
    "---\n",
    "\n",
    "# Taller de Jupyter para Matemáticas\n",
    "\n",
    "### Uso de Jupyter para enseñanza de materias técnicas\n",
    "\n",
    "#### Juan Luis Cano Rodríguez <hello@juanlu.space> | 2020-10-17 Online 🌎\n",
    "\n",
    "---"
   ]
  },
  {
   "cell_type": "markdown",
   "metadata": {
    "slideshow": {
     "slide_type": "slide"
    }
   },
   "source": [
    "# 0. Presentación del taller\n",
    "\n",
    "- ¿Quién soy yo?\n",
    "- Estructura del taller + Charlas rápidas\n",
    "- Materiales + Acceso a Jupyter\n",
    "- Cómo participar"
   ]
  },
  {
   "cell_type": "markdown",
   "metadata": {
    "slideshow": {
     "slide_type": "slide"
    }
   },
   "source": [
    "# ¿Quién soy yo?\n",
    "\n",
    "![Juanlu @ UIS](img/juanlu-uis.jpg)\n",
    "\n",
    "* **Ingeniero Aeronáutico** y pythonista autodidacta de Madrid 🇪🇸\n",
    "* **Mission Planning & Execution Engineer** en Satellogic 🇦🇷\n",
    "* **Socio fundador y ex-presidente** de la Asociación Python España y organizador de PyConES por 7 años 🐍\n",
    "* **Colaborador** en proyectos de Python Científico: NumPy, SciPy, conda, astropy, memory-profiler...\n",
    "* **Profesor asociado** en **IE** y **ESADE** de Python para Big Data\n",
    "* **Consultor independiente** para proyectos de I+D en startups y empresas del sector aeroespacial\n",
    "* Amante del código abierto y el hard rock 🤘"
   ]
  },
  {
   "cell_type": "markdown",
   "metadata": {
    "slideshow": {
     "slide_type": "slide"
    }
   },
   "source": [
    "# Estructura del taller + Charlas Rápidas\n",
    "\n",
    "- Presentación inicial (5m) (@ariel)\n",
    "    - Difusión de SciPy Latinoamérica y Jupyter Latam\n",
    "- Taller (I) (50m)\n",
    "- Descanso (15m)\n",
    "    - Charlas rápidas (5m cada una)\n",
    "    - PyLadies Colombia & Women in Bioinformatics @lucy\n",
    "    - Django Girls Colombia & Pioneras Tech @angelica\n",
    "    - Python & Psicología @alexis\n",
    "- Taller (II) (45m)\n",
    "- Encuesta final (5m)"
   ]
  },
  {
   "cell_type": "markdown",
   "metadata": {
    "slideshow": {
     "slide_type": "slide"
    }
   },
   "source": [
    "# Material + Acceso a Jupyter\n",
    "\n",
    "![The Littlest JupyterHub](img/tljh-logo.png)\n",
    "\n",
    "- Todo el material del curso está publicado en **GitHub** https://github.com/astrojuanlu/taller-jupyter-matematicas\n",
    "- **¡No hace falta instalar nada!** Solo un navegador y acceso a Internet\n",
    "- Han recibido por correo electrónico instrucciones para acceder al Servidor Privado Virtual (VPS) que contiene el despliegue de JupyterHub\n",
    "- Si no lo han recibido o no funciona, prueben **Binder** https://mybinder.org/v2/gh/astrojuanlu/taller-jupyter/master"
   ]
  },
  {
   "cell_type": "markdown",
   "metadata": {
    "slideshow": {
     "slide_type": "slide"
    }
   },
   "source": [
    "# Cómo participar\n",
    "\n",
    "![Twitch.tv](img/twitch-logo.png)\n",
    "\n",
    "- Retransmisión en vivo a través de **Twitch.tv** https://www.twitch.tv/astrojuanlu (¡suscríbanse!)\n",
    "- El equipo organizador estará monitorizando el chat del streaming para responder sus preguntas\n",
    "  - Necesitarán una cuenta en Twitch.tv\n",
    "- El vídeo quedará subido en el canal de **YouTube** de `@astrojuanlu` https://www.youtube.com/channel/UCvx0swtjrEm7_OkyvMowXmQ (¡suscríbanse!)\n",
    "- Para estar al tanto de futuras actividades, pueden unirse al grupo de **Telegram** de `@scipyla` https://t.me/scipyla"
   ]
  },
  {
   "cell_type": "markdown",
   "metadata": {
    "slideshow": {
     "slide_type": "slide"
    }
   },
   "source": [
    "# ¡Comencemos!\n",
    "\n",
    "![Liftoff](https://media.giphy.com/media/1AftraDoY3VJxFl4Fv/giphy.gif)"
   ]
  }
 ],
 "metadata": {
  "celltoolbar": "Slideshow",
  "kernelspec": {
   "display_name": "Python 3",
   "language": "python",
   "name": "python3"
  },
  "language_info": {
   "codemirror_mode": {
    "name": "ipython",
    "version": 3
   },
   "file_extension": ".py",
   "mimetype": "text/x-python",
   "name": "python",
   "nbconvert_exporter": "python",
   "pygments_lexer": "ipython3",
   "version": "3.8.3"
  }
 },
 "nbformat": 4,
 "nbformat_minor": 4
}
